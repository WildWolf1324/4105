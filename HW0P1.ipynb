{
 "cells": [
  {
   "cell_type": "code",
   "execution_count": 50,
   "id": "f70deef9-bbcc-4594-9de8-80eb4efd550b",
   "metadata": {},
   "outputs": [],
   "source": [
    "# Kemp Carswell 801017179\n",
    "import numpy as np\n",
    "import pandas as pd\n",
    "import matplotlib.pyplot as plt"
   ]
  },
  {
   "cell_type": "code",
   "execution_count": 51,
   "id": "96a9b9f7-e914-447e-bb71-064faf24018e",
   "metadata": {},
   "outputs": [
    {
     "data": {
      "text/plain": [
       "99"
      ]
     },
     "execution_count": 51,
     "metadata": {},
     "output_type": "execute_result"
    }
   ],
   "source": [
    "df = pd.read_csv('C:/Users/kemp/Downloads/D3.csv')\n",
    "df.head() # To get first n rows from the dataset default value of n is 5\n",
    "M=len(df)\n",
    "M"
   ]
  },
  {
   "cell_type": "code",
   "execution_count": 52,
   "id": "63172066-fdee-45e0-b475-b0a0e472edf5",
   "metadata": {},
   "outputs": [
    {
     "name": "stdout",
     "output_type": "stream",
     "text": [
      "X1 =  [0.04040404 0.08080808 0.12121212 0.16161616 0.2020202 ]\n",
      "X2 =  [0.13494949 0.82989899 1.52484848 2.21979798 2.91474747]\n",
      "X3 =  [0.88848485 1.3369697  1.78545455 2.23393939 2.68242424]\n",
      "y =  [2.6796499  2.96848981 3.25406475 3.53637472 3.81541972]\n",
      "m =  99\n"
     ]
    }
   ],
   "source": [
    "X1 = df.values[:, 0] # get input values from first column\n",
    "X2 = df.values[:, 1] # get input values from second column\n",
    "X3 = df.values[:, 2] # get input values from third column\n",
    "y = df.values[:, 3] # get output values from fourth column\n",
    "m = len(y) # Number of training examples\n",
    "print('X1 = ', X1[: 5]) # Show only first 5 records to make sure right column was grabbed\n",
    "print('X2 = ', X2[: 5])\n",
    "print('X3 = ', X3[: 5])\n",
    "print('y = ', y[: 5])\n",
    "print('m = ', m)"
   ]
  },
  {
   "cell_type": "code",
   "execution_count": 53,
   "id": "5dda4f55-4fc7-4c50-95f7-0a56d08b2e7d",
   "metadata": {},
   "outputs": [],
   "source": [
    "#Lets create a matrix with single column of ones\n",
    "X_0 = np.ones((m, 1))\n",
    "# Using reshape function convert X 1D array to 2D array of dimension 97x1\n",
    "X_1 = X1.reshape(m, 1)\n",
    "X_2 = X2.reshape(m, 1)\n",
    "X_3 = X3.reshape(m, 1)\n",
    "# Lets use hstack() function from numpy to stack X_0 and X_1 horizontally (i.e. column\n",
    "# This will be our final X matrix (feature matrix)\n",
    "X1 = np.hstack((X_0, X_1))\n",
    "X2 = np.hstack((X_0, X_2))\n",
    "X3 = np.hstack((X_0, X_3))"
   ]
  },
  {
   "cell_type": "code",
   "execution_count": 54,
   "id": "de3377b6-bccc-4baf-a971-c254bb21b2ce",
   "metadata": {},
   "outputs": [],
   "source": [
    "theta = np.zeros(2)"
   ]
  },
  {
   "cell_type": "code",
   "execution_count": 55,
   "id": "608c1d80-96f6-45a6-930a-2c9a4ba8faef",
   "metadata": {},
   "outputs": [],
   "source": [
    "def compute_cost(X, y, theta):\n",
    " \"\"\"\n",
    " Compute cost for linear regression.\n",
    " Input Parameters\n",
    " ----------------\n",
    " X : 2D array where each row represent the training example and each column represent\n",
    " m= number of training examples\n",
    " n= number of features (including X_0 column of ones)\n",
    " y : 1D array of labels/target value for each traing example. dimension(1 x m)\n",
    " theta : 1D array of fitting parameters or weights. Dimension (1 x n)\n",
    " Output Parameters\n",
    " -----------------\n",
    " J : Scalar value.\n",
    " \"\"\"\n",
    " predictions = X.dot(theta)\n",
    " errors = np.subtract(predictions, y)\n",
    " sqrErrors = np.square(errors)\n",
    " J = 1 / (2 * m) * np.sum(sqrErrors)\n",
    " return J"
   ]
  },
  {
   "cell_type": "code",
   "execution_count": 66,
   "id": "9d03e892-2a58-4a63-be12-9d50901d9896",
   "metadata": {},
   "outputs": [],
   "source": [
    "def gradient_descent(X, y, theta, alpha, iterations):\n",
    " \"\"\"\n",
    " Compute cost for linear regression.\n",
    " Input Parameters\n",
    " ----------------\n",
    " X : 2D array where each row represent the training example and each column represent\n",
    " m= number of training examples\n",
    " n= number of features (including X_0 column of ones)\n",
    " y : 1D array of labels/target value for each traing example. dimension(m x 1)\n",
    " theta : 1D array of fitting parameters or weights. Dimension (1 x n)\n",
    " alpha : Learning rate. Scalar value\n",
    " iterations: No of iterations. Scalar value.\n",
    " Output Parameters\n",
    " -----------------\n",
    " theta : Final Value. 1D array of fitting parameters or weights. Dimension (1 x n)\n",
    " cost_history: Conatins value of cost for each iteration. 1D array. Dimansion(m x 1)\n",
    "  \"\"\"\n",
    " cost_history = np.zeros(iterations)\n",
    " for i in range(iterations):\n",
    "     predictions = X.dot(theta)\n",
    "     errors = np.subtract(predictions, y)\n",
    "     sum_delta = (alpha / m) * X.transpose().dot(errors);\n",
    "     theta = theta - sum_delta;\n",
    "     cost_history[i] = compute_cost(X, y, theta)\n",
    " return theta, cost_history"
   ]
  },
  {
   "cell_type": "code",
   "execution_count": 67,
   "id": "f8cc9eab-d045-4ba2-ba47-337a7beaea66",
   "metadata": {},
   "outputs": [],
   "source": [
    "theta = [0., 0.]\n",
    "iterations = 1500;\n",
    "alpha = 0.05;\n",
    "Xx = X1; # change for which X value you are testing"
   ]
  },
  {
   "cell_type": "code",
   "execution_count": 68,
   "id": "3e691436-a003-49eb-8f14-33a24699d0a6",
   "metadata": {
    "tags": []
   },
   "outputs": [
    {
     "name": "stdout",
     "output_type": "stream",
     "text": [
      "Final value of theta = [ 5.99113956 -2.06191404]\n",
      "cost_history = [5.291052   5.15332621 5.0424164  ... 0.98246683 0.98246683 0.98246683]\n"
     ]
    }
   ],
   "source": [
    "theta, cost_history = gradient_descent(Xx, y, theta, alpha, iterations)\n",
    "print('Final value of theta =', theta)\n",
    "print('cost_history =', cost_history)\n"
   ]
  },
  {
   "cell_type": "code",
   "execution_count": 69,
   "id": "5c1ea0cb-557c-45f4-8b4a-16d9820520c8",
   "metadata": {
    "tags": []
   },
   "outputs": [
    {
     "data": {
      "text/plain": [
       "Text(0.5, 1.0, 'Convergence of gradient descent')"
      ]
     },
     "execution_count": 69,
     "metadata": {},
     "output_type": "execute_result"
    },
    {
     "data": {
      "image/png": "[encoded data removed]",
      "text/plain": [
       "<Figure size 720x432 with 1 Axes>"
      ]
     },
     "metadata": {
      "needs_background": "light"
     },
     "output_type": "display_data"
    }
   ],
   "source": [
    "plt.plot(range(1, iterations + 1),cost_history, color='blue')\n",
    "plt.rcParams[\"figure.figsize\"] = (10,6)\n",
    "plt.grid()\n",
    "plt.xlabel('Number of iterations')\n",
    "plt.ylabel('Cost (J)')\n",
    "plt.title('Convergence of gradient descent')"
   ]
  },
  {
   "cell_type": "code",
   "execution_count": 70,
   "id": "7fc42974-2806-4dfe-afc4-675e7b571a81",
   "metadata": {},
   "outputs": [
    {
     "data": {
      "text/plain": [
       "<matplotlib.legend.Legend at 0x242cd35d8b0>"
      ]
     },
     "execution_count": 70,
     "metadata": {},
     "output_type": "execute_result"
    },
    {
     "data": {
      "image/png": "[encoded data removed]",
      "text/plain": [
       "<Figure size 720x432 with 1 Axes>"
      ]
     },
     "metadata": {
      "needs_background": "light"
     },
     "output_type": "display_data"
    }
   ],
   "source": [
    "# Since X is list of list (feature matrix) lets take values of column of index 1 only\n",
    "plt.scatter(Xx[:,1], y, color='red', marker= '+', label= 'Training Data')\n",
    "plt.plot(Xx[:,1],Xx.dot(theta), color='green', label='Linear Regression')\n",
    "plt.rcParams[\"figure.figsize\"] = (10,6)\n",
    "plt.grid()\n",
    "plt.xlabel('Xs')\n",
    "plt.ylabel('Ys')\n",
    "plt.title('Linear Regression Fit')\n",
    "plt.legend()"
   ]
  },
  {
   "cell_type": "code",
   "execution_count": null,
   "id": "dba7234f-9dd7-4d85-878f-0353c3e8d01d",
   "metadata": {},
   "outputs": [],
   "source": []
  }
 ],
 "metadata": {
  "kernelspec": {
   "display_name": "Python 3",
   "language": "python",
   "name": "python3"
  },
  "language_info": {
   "codemirror_mode": {
    "name": "ipython",
    "version": 3
   },
   "file_extension": ".py",
   "mimetype": "text/x-python",
   "name": "python",
   "nbconvert_exporter": "python",
   "pygments_lexer": "ipython3",
   "version": "3.8.8"
  }
 },
 "nbformat": 4,
 "nbformat_minor": 5
}
