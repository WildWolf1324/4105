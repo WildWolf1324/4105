{
 "cells": [
  {
   "cell_type": "code",
   "execution_count": 146,
   "id": "57b64cda-5116-43a7-857d-6c1bd1da43bb",
   "metadata": {},
   "outputs": [],
   "source": [
    "# Kemp Carswell 801017179\n",
    "import numpy as np\n",
    "import pandas as pd\n",
    "import matplotlib.pyplot as plt"
   ]
  },
  {
   "cell_type": "code",
   "execution_count": 147,
   "id": "7128201d-ed45-4e86-811f-9e9e95bef860",
   "metadata": {},
   "outputs": [],
   "source": [
    "df = pd.read_csv('C:/Users/kemp/Downloads/D3.csv')"
   ]
  },
  {
   "cell_type": "code",
   "execution_count": 148,
   "id": "8d299d20-a706-496f-a492-ef8909666ab0",
   "metadata": {},
   "outputs": [],
   "source": [
    "X = df.values[:,[0,1,2]] # get input values from first three columns\n",
    "y = df.values[:,3] # get output values from fourth column"
   ]
  },
  {
   "cell_type": "code",
   "execution_count": 149,
   "id": "83c3d99d-d2f2-459a-9159-f47a34abf4af",
   "metadata": {},
   "outputs": [],
   "source": [
    "mean = np.ones(X.shape[1])\n",
    "std = np.ones(X.shape[1])\n",
    "for i in range(0, X.shape[1]):\n",
    "    mean[i] = np.mean(X.transpose()[i])\n",
    "    std[i] = np.std(X.transpose()[i])\n",
    "    for j in range(0, X.shape[0]):\n",
    "        X[j][i] = (X[j][i] - mean[i])/std[i]"
   ]
  },
  {
   "cell_type": "code",
   "execution_count": 150,
   "id": "05264813-5b4d-45ac-b3f4-7baa8de17826",
   "metadata": {},
   "outputs": [],
   "source": [
    "def compute_cost(X, n, theta):\n",
    "    h = np.ones((X.shape[0],1))\n",
    "    theta = theta.reshape(1,n+1)\n",
    "    for i in range(0,X.shape[0]):\n",
    "        h[i] = float(np.matmul(theta, X[i]))\n",
    "    h = h.reshape(X.shape[0])\n",
    "    return h"
   ]
  },
  {
   "cell_type": "code",
   "execution_count": 151,
   "id": "33f966b2-279b-4e84-a31b-e152e88f1f5f",
   "metadata": {},
   "outputs": [],
   "source": [
    "def gradient_descent(X, y, theta, alpha, iterations, n, h):\n",
    "    cost = np.ones(iterations)\n",
    "    for i in range(0,iterations):\n",
    "        theta[0] = theta[0] - (alpha/X.shape[0]) * sum(h - y)\n",
    "        for j in range(1,n+1):\n",
    "            theta[j] = theta[j] - (alpha/X.shape[0]) * sum((h-y) * X.transpose()[j])\n",
    "        h = compute_cost(X, n, theta)\n",
    "        cost[i] = (1/X.shape[0]) * 0.5 * sum(np.square(h - y))\n",
    "    theta = theta.reshape(1,n+1)\n",
    "    return theta, cost"
   ]
  },
  {
   "cell_type": "code",
   "execution_count": 152,
   "id": "26bad2f6-651c-4004-8b5f-2e1cfa322d02",
   "metadata": {},
   "outputs": [],
   "source": [
    "def linear_regression(X, y, alpha, iterations):\n",
    "    n = X.shape[1]\n",
    "    one_column = np.ones((X.shape[0],1))\n",
    "    X = np.concatenate((one_column, X), axis = 1)\n",
    "    theta = np.zeros(n+1)\n",
    "    h = compute_cost(X, n, theta)\n",
    "    theta, cost = gradient_descent(X, y, theta, alpha, iterations, n, h)\n",
    "    return theta, cost"
   ]
  },
  {
   "cell_type": "code",
   "execution_count": 153,
   "id": "312ae3ce-c582-49f1-9089-58993ea97d99",
   "metadata": {},
   "outputs": [],
   "source": [
    "iterations = 1500;\n",
    "alpha = 0.1;"
   ]
  },
  {
   "cell_type": "code",
   "execution_count": 154,
   "id": "d4f86c5a-6c96-4c90-8082-84195b3be8f0",
   "metadata": {
    "tags": []
   },
   "outputs": [
    {
     "name": "stdout",
     "output_type": "stream",
     "text": [
      "Final value of theta = [[ 1.82565677 -2.35781332  0.65275329 -0.33677366]]\n"
     ]
    }
   ],
   "source": [
    "theta, cost = linear_regression(X, y, alpha, iterations)\n",
    "print('Final value of theta =', theta)\n",
    "cost = list(cost)\n",
    "n_ierations = [x for x in range(1,1501)]"
   ]
  },
  {
   "cell_type": "code",
   "execution_count": 155,
   "id": "a1f4140c-e567-4846-8e6a-5a048eb15308",
   "metadata": {},
   "outputs": [
    {
     "data": {
      "text/plain": [
       "Text(0.5, 1.0, 'Convergence of gradient descent')"
      ]
     },
     "execution_count": 155,
     "metadata": {},
     "output_type": "execute_result"
    },
    {
     "data": {
      "image/png": "[encoded data removed]",
      "text/plain": [
       "<Figure size 720x432 with 1 Axes>"
      ]
     },
     "metadata": {
      "needs_background": "light"
     },
     "output_type": "display_data"
    }
   ],
   "source": [
    "plt.plot(n_ierations, cost)\n",
    "plt.rcParams[\"figure.figsize\"]=(10,6)\n",
    "plt.grid()\n",
    "plt.xlabel('No. of iterations')\n",
    "plt.ylabel('Cost')\n",
    "plt.title('Convergence of gradient descent')"
   ]
  },
  {
   "cell_type": "code",
   "execution_count": null,
   "id": "7a92e6cf-94a7-4ca7-82ad-443f05514525",
   "metadata": {},
   "outputs": [],
   "source": []
  }
 ],
 "metadata": {
  "kernelspec": {
   "display_name": "Python 3",
   "language": "python",
   "name": "python3"
  },
  "language_info": {
   "codemirror_mode": {
    "name": "ipython",
    "version": 3
   },
   "file_extension": ".py",
   "mimetype": "text/x-python",
   "name": "python",
   "nbconvert_exporter": "python",
   "pygments_lexer": "ipython3",
   "version": "3.8.8"
  }
 },
 "nbformat": 4,
 "nbformat_minor": 5
}
