{
 "cells": [
  {
   "cell_type": "code",
   "execution_count": 14,
   "id": "34b932f2-e74c-470f-98cf-d8401520db41",
   "metadata": {},
   "outputs": [],
   "source": [
    "# Kemp Carswell 801017179\n",
    "import numpy as np\n",
    "import pandas as pd\n",
    "import matplotlib.pyplot as plt\n",
    "from sklearn.metrics import make_scorer, accuracy_score, precision_score, recall_score\n",
    "from sklearn.model_selection import KFold\n",
    "from sklearn.model_selection import train_test_split\n",
    "from sklearn.model_selection import cross_validate\n",
    "from sklearn.linear_model import LinearRegression"
   ]
  },
  {
   "cell_type": "code",
   "execution_count": 15,
   "id": "27dff7de-93f8-4ea4-bbf8-1b74da8ee700",
   "metadata": {},
   "outputs": [
    {
     "data": {
      "text/html": [
       "<div>\n",
       "<style scoped>\n",
       "    .dataframe tbody tr th:only-of-type {\n",
       "        vertical-align: middle;\n",
       "    }\n",
       "\n",
       "    .dataframe tbody tr th {\n",
       "        vertical-align: top;\n",
       "    }\n",
       "\n",
       "    .dataframe thead th {\n",
       "        text-align: right;\n",
       "    }\n",
       "</style>\n",
       "<table border=\"1\" class=\"dataframe\">\n",
       "  <thead>\n",
       "    <tr style=\"text-align: right;\">\n",
       "      <th></th>\n",
       "      <th>Pregnancies</th>\n",
       "      <th>Glucose</th>\n",
       "      <th>BloodPressure</th>\n",
       "      <th>SkinThickness</th>\n",
       "      <th>Insulin</th>\n",
       "      <th>BMI</th>\n",
       "      <th>DiabetesPedigreeFunction</th>\n",
       "      <th>Age</th>\n",
       "      <th>Outcome</th>\n",
       "    </tr>\n",
       "  </thead>\n",
       "  <tbody>\n",
       "    <tr>\n",
       "      <th>0</th>\n",
       "      <td>6</td>\n",
       "      <td>148</td>\n",
       "      <td>72</td>\n",
       "      <td>35</td>\n",
       "      <td>0</td>\n",
       "      <td>33.6</td>\n",
       "      <td>0.627</td>\n",
       "      <td>50</td>\n",
       "      <td>1</td>\n",
       "    </tr>\n",
       "    <tr>\n",
       "      <th>1</th>\n",
       "      <td>1</td>\n",
       "      <td>85</td>\n",
       "      <td>66</td>\n",
       "      <td>29</td>\n",
       "      <td>0</td>\n",
       "      <td>26.6</td>\n",
       "      <td>0.351</td>\n",
       "      <td>31</td>\n",
       "      <td>0</td>\n",
       "    </tr>\n",
       "    <tr>\n",
       "      <th>2</th>\n",
       "      <td>8</td>\n",
       "      <td>183</td>\n",
       "      <td>64</td>\n",
       "      <td>0</td>\n",
       "      <td>0</td>\n",
       "      <td>23.3</td>\n",
       "      <td>0.672</td>\n",
       "      <td>32</td>\n",
       "      <td>1</td>\n",
       "    </tr>\n",
       "    <tr>\n",
       "      <th>3</th>\n",
       "      <td>1</td>\n",
       "      <td>89</td>\n",
       "      <td>66</td>\n",
       "      <td>23</td>\n",
       "      <td>94</td>\n",
       "      <td>28.1</td>\n",
       "      <td>0.167</td>\n",
       "      <td>21</td>\n",
       "      <td>0</td>\n",
       "    </tr>\n",
       "    <tr>\n",
       "      <th>4</th>\n",
       "      <td>0</td>\n",
       "      <td>137</td>\n",
       "      <td>40</td>\n",
       "      <td>35</td>\n",
       "      <td>168</td>\n",
       "      <td>43.1</td>\n",
       "      <td>2.288</td>\n",
       "      <td>33</td>\n",
       "      <td>1</td>\n",
       "    </tr>\n",
       "  </tbody>\n",
       "</table>\n",
       "</div>"
      ],
      "text/plain": [
       "   Pregnancies  Glucose  BloodPressure  SkinThickness  Insulin   BMI  \\\n",
       "0            6      148             72             35        0  33.6   \n",
       "1            1       85             66             29        0  26.6   \n",
       "2            8      183             64              0        0  23.3   \n",
       "3            1       89             66             23       94  28.1   \n",
       "4            0      137             40             35      168  43.1   \n",
       "\n",
       "   DiabetesPedigreeFunction  Age  Outcome  \n",
       "0                     0.627   50        1  \n",
       "1                     0.351   31        0  \n",
       "2                     0.672   32        1  \n",
       "3                     0.167   21        0  \n",
       "4                     2.288   33        1  "
      ]
     },
     "execution_count": 15,
     "metadata": {},
     "output_type": "execute_result"
    }
   ],
   "source": [
    "dataset = pd.read_csv('C:/Users/kemp/Downloads/diabetes.csv')\n",
    "dataset.head()"
   ]
  },
  {
   "cell_type": "code",
   "execution_count": 16,
   "id": "eb6d24e1-fc03-442c-b782-4ef349b6de4b",
   "metadata": {},
   "outputs": [],
   "source": [
    "#In our Data set we’ll consider Age and EstimatedSalary as Independent variable\n",
    "X = dataset.iloc[:,0:8].values\n",
    "Y = dataset.iloc[:,8].values"
   ]
  },
  {
   "cell_type": "code",
   "execution_count": 17,
   "id": "1396990a-7a95-4920-a3e5-e2483622da22",
   "metadata": {},
   "outputs": [],
   "source": [
    "#Now we’ll split our Data set into Training Data and Test Data. Training data will be u\n",
    "#Logistic model and Test data will be used to validate our model. We’ll use Sklearn to\n",
    "from sklearn.model_selection import train_test_split\n",
    "X_train, X_test, Y_train, Y_test = train_test_split(X, Y, train_size = 0.8, test_size = 0.2, random_state = np.random)"
   ]
  },
  {
   "cell_type": "code",
   "execution_count": 18,
   "id": "2853db81-2b51-4247-8249-3f4f540389d1",
   "metadata": {},
   "outputs": [],
   "source": [
    "#Now we’ll do feature scaling to scale our data between 0 and 1 to get better accuracy.\n",
    "#Here Scaling is important because there is a huge difference between Age and Estimated\n",
    "from sklearn.preprocessing import StandardScaler\n",
    "sc_X = StandardScaler()\n",
    "X_train = sc_X.fit_transform(X_train)\n",
    "X_test = sc_X.transform(X_test)"
   ]
  },
  {
   "cell_type": "code",
   "execution_count": 19,
   "id": "05b2e4b4-9f97-4067-b8f2-29f569b8e1ad",
   "metadata": {},
   "outputs": [
    {
     "data": {
      "text/plain": [
       "['fit_time', 'score_time', 'test_accuracy', 'test_precision', 'test_recall']"
      ]
     },
     "execution_count": 19,
     "metadata": {},
     "output_type": "execute_result"
    }
   ],
   "source": [
    "#Import LogisticRegression from sklearn.linear_model\n",
    "#Make an instance classifier of the object LogisticRegression and give random_state =\n",
    "from sklearn.naive_bayes import GaussianNB\n",
    "gb = GaussianNB()\n",
    "metrics = ['accuracy', 'precision', 'recall']\n",
    "cv5 = KFold(n_splits=5, random_state=1, shuffle=True)\n",
    "cv10 = KFold(n_splits=10, random_state=1, shuffle=True)\n",
    "scores = cross_validate(gb, X_train, Y_train, scoring=metrics, cv=cv5, n_jobs=-1)\n",
    "scores10 = cross_validate(gb, X_train, Y_train, scoring=metrics, cv=cv10, n_jobs=-1)\n",
    "sorted(scores.keys())\n",
    "['fit_time', 'score_time', 'test_accuracy', 'test_precision', 'test_recall']\n",
    "sorted(scores10.keys())\n",
    "['fit_time', 'score_time', 'test_accuracy', 'test_precision', 'test_recall']"
   ]
  },
  {
   "cell_type": "code",
   "execution_count": 20,
   "id": "522ced1e-5005-4f6e-ae33-5a04a54c4cab",
   "metadata": {},
   "outputs": [
    {
     "name": "stdout",
     "output_type": "stream",
     "text": [
      "For K = 5\n",
      "Accuracy: 0.771944555511129\n",
      "Precision: 0.6932577226694874\n",
      "Recall: 0.6483712942242704\n"
     ]
    }
   ],
   "source": [
    "print(\"For K = 5\")\n",
    "print(\"Accuracy:\",np.mean(scores['test_accuracy']))\n",
    "print(\"Precision:\",np.mean(scores['test_precision']))\n",
    "print(\"Recall:\",np.mean(scores['test_recall']))"
   ]
  },
  {
   "cell_type": "code",
   "execution_count": 21,
   "id": "026eaf76-3073-4aeb-b1e8-02153b808b25",
   "metadata": {},
   "outputs": [
    {
     "name": "stdout",
     "output_type": "stream",
     "text": [
      "For K = 10\n",
      "Accuracy: 0.7557641459545215\n",
      "Precision: 0.6659188263011351\n",
      "Recall: 0.622034632034632\n"
     ]
    }
   ],
   "source": [
    "print(\"For K = 10\")\n",
    "print(\"Accuracy:\",np.mean(scores10['test_accuracy']))\n",
    "print(\"Precision:\",np.mean(scores10['test_precision']))\n",
    "print(\"Recall:\",np.mean(scores10['test_recall']))"
   ]
  },
  {
   "cell_type": "code",
   "execution_count": null,
   "id": "a67476ef-6bae-4026-b264-cf833960cfe2",
   "metadata": {},
   "outputs": [],
   "source": []
  }
 ],
 "metadata": {
  "kernelspec": {
   "display_name": "Python 3",
   "language": "python",
   "name": "python3"
  },
  "language_info": {
   "codemirror_mode": {
    "name": "ipython",
    "version": 3
   },
   "file_extension": ".py",
   "mimetype": "text/x-python",
   "name": "python",
   "nbconvert_exporter": "python",
   "pygments_lexer": "ipython3",
   "version": "3.8.8"
  }
 },
 "nbformat": 4,
 "nbformat_minor": 5
}
